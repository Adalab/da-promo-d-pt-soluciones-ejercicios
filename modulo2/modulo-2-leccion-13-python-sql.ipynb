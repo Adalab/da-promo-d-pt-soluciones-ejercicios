{
 "cells": [
  {
   "cell_type": "markdown",
   "metadata": {},
   "source": [
    "1. Haz las importaciones necesarias para establecer la conexión y trabajar con Pandas.Establece la conexión usando mysql.connector utilizando try/except por si la conexión devuelve un error."
   ]
  },
  {
   "cell_type": "code",
   "execution_count": 40,
   "metadata": {},
   "outputs": [],
   "source": [
    "# Importar librería para la conexión con MySQL\n",
    "# -----------------------------------------------------------------------\n",
    "import mysql.connector\n",
    "from mysql.connector import errorcode\n",
    "\n",
    "\n",
    "# Importar librerías para manipulación y análisis de datos\n",
    "# -----------------------------------------------------------------------\n",
    "import pandas as pd\n",
    "import numpy as np\n"
   ]
  },
  {
   "cell_type": "code",
   "execution_count": 41,
   "metadata": {},
   "outputs": [],
   "source": [
    "try:\n",
    "    cnx = mysql.connector.connect(user='root', password='AlumnaAdalab',\n",
    "                                  host='127.0.0.1')\n",
    "    \n",
    "    # Intenta crear el esquema \"alumnas-promo-h\"\n",
    "    cursor = cnx.cursor()\n",
    "    cursor.execute(\"CREATE DATABASE alumnas-promo-h\")\n",
    "\n",
    "    # Cambia a la base de datos \"alumnas-promo-h\"\n",
    "    cnx.database = 'alumnas-promo-h'\n",
    "\n",
    "except mysql.connector.Error as err:\n",
    "    if err.errno == errorcode.ER_ACCESS_DENIED_ERROR:\n",
    "        print(\"Something is wrong with your user name or password\")\n",
    "    elif err.errno == errorcode.ER_BAD_DB_ERROR:\n",
    "        print(\"Database does not exist\")\n",
    "    else:\n",
    "        print(err)\n",
    "else:\n",
    "    cnx.close()\n"
   ]
  },
  {
   "cell_type": "markdown",
   "metadata": {},
   "source": [
    "2. Crea un nuevo \"schema\" llamado \"alumnas-promo-X\""
   ]
  },
  {
   "cell_type": "code",
   "execution_count": 42,
   "metadata": {},
   "outputs": [],
   "source": [
    "try:\n",
    "    cnx = mysql.connector.connect(user='root', password='AlumnaAdalab',\n",
    "                                  host='127.0.0.1')\n",
    "    \n",
    "    # Intenta crear el esquema \"alumnas-promo-h\"\n",
    "    cursor = cnx.cursor()\n",
    "    cursor.execute(\"CREATE DATABASE IF NOT EXISTS `alumnas-promo-h`\")\n",
    "\n",
    "    # Cambia a la base de datos \"alumnas-promo-h\"\n",
    "    cnx.database = 'alumnas-promo-h'\n",
    "\n",
    "except mysql.connector.Error as err:\n",
    "    if err.errno == errorcode.ER_ACCESS_DENIED_ERROR:\n",
    "        print(\"Something is wrong with your user name or password\")\n",
    "    elif err.errno == errorcode.ER_BAD_DB_ERROR:\n",
    "        print(\"Database does not exist\")\n",
    "    else:\n",
    "        print(err)\n",
    "else:\n",
    "    cnx.close()"
   ]
  },
  {
   "cell_type": "markdown",
   "metadata": {},
   "source": [
    "3. Crea una tabla con la información de las alumnas de la promo. Debe incluir: id_alumna, nombre, apellidos, ciudad y teléfono."
   ]
  },
  {
   "cell_type": "code",
   "execution_count": 43,
   "metadata": {},
   "outputs": [],
   "source": [
    "\n",
    "try:\n",
    "    cnx = mysql.connector.connect(user='root', password='AlumnaAdalab',\n",
    "                                  host='127.0.0.1',\n",
    "                                  database='alumnas-promo-h')\n",
    "    cursor = cnx.cursor()\n",
    "\n",
    "    # Define la estructura de la tabla\n",
    "    create_table_query = \"\"\"\n",
    "    CREATE TABLE IF NOT EXISTS alumnas (\n",
    "        id_alumna INT AUTO_INCREMENT PRIMARY KEY,\n",
    "        nombre VARCHAR(255),\n",
    "        apellidos VARCHAR(255),\n",
    "        ciudad VARCHAR(255),\n",
    "        telefono VARCHAR(20)\n",
    "    )\n",
    "    \"\"\"\n",
    "    # Ejecuta la consulta para crear la tabla\n",
    "    cursor.execute(create_table_query)\n",
    "    \n",
    "except mysql.connector.Error as err:\n",
    "    print(\"Error:\", err)\n",
    "\n",
    "finally:\n",
    "    # Cierra la conexión\n",
    "    cursor.close()\n",
    "    cnx.close()\n"
   ]
  },
  {
   "cell_type": "markdown",
   "metadata": {},
   "source": [
    "4. Inserta por lo menos 10 datos en la tabla creada en el ejercicio anterior (pueden ser inventados)."
   ]
  },
  {
   "cell_type": "code",
   "execution_count": 44,
   "metadata": {},
   "outputs": [],
   "source": [
    "\n",
    "cnx = mysql.connector.connect(user='root', password='AlumnaAdalab',\n",
    "                                  host='127.0.0.1',\n",
    "                                  database='alumnas-promo-h')\n",
    "cursor = cnx.cursor()\n",
    "\n",
    "# Consulta SQL para insertar datos en la tabla\n",
    "insert_query = \"\"\"\n",
    "INSERT INTO alumnas (nombre, apellidos, ciudad, telefono)\n",
    "VALUES (%s, %s, %s, %s)\n",
    "\"\"\"\n",
    "\n",
    "# Lista de datos de ejemplo para insertar\n",
    "data = [\n",
    "        (\"Ana\", \"García Pérez\", \"Madrid\", \"123456789\"),\n",
    "        (\"María\", \"López Martínez\", \"Barcelona\", \"987654321\"),\n",
    "        (\"Laura\", \"Fernández Gómez\", \"Sevilla\", \"654987321\"),\n",
    "        (\"Sofía\", \"Martín Sánchez\", \"Madrid\", \"321456987\"),\n",
    "        (\"Lucía\", \"Díaz Rodríguez\", \"Barcelona\", \"789654123\"),\n",
    "        (\"Elena\", \"González López\", \"Málaga\", \"456123789\"),\n",
    "        (\"Carmen\", \"Sánchez Fernández\", \"Alicante\", \"852369741\"),\n",
    "        (\"Paula\", \"Martínez García\", \"Madrid\", \"369852147\"),\n",
    "        (\"Alba\", \"Pérez Martín\", \"Barcelona\", \"147852369\"),\n",
    "        (\"Marta\", \"Rodríguez Ruiz\", \"Granada\", \"963852741\")\n",
    "    ]\n",
    "\n",
    "\n",
    "\n",
    "# Ejecuta la consulta para insertar datos\n",
    "cursor.executemany(insert_query, data)\n",
    "    \n",
    "# Confirma la transacción\n",
    "cnx.commit()\n",
    "\n",
    "\n",
    "cnx.close()\n"
   ]
  },
  {
   "cell_type": "markdown",
   "metadata": {},
   "source": [
    "5. Haz una consulta que devuelva todos los registros de la tabla \"alumnas\" y conviértelo en Dataframe (no te olvides del nombre de las columnas)."
   ]
  },
  {
   "cell_type": "code",
   "execution_count": 45,
   "metadata": {},
   "outputs": [],
   "source": [
    "# Establece la conexión a la base de datos\n",
    "cnx = mysql.connector.connect(user='root', password='AlumnaAdalab',\n",
    "                                  host='127.0.0.1',\n",
    "                                  database='alumnas-promo-h')\n",
    "cursor = cnx.cursor()\n",
    "\n",
    "# Realiza la consulta SQL para seleccionar todos los registros de la tabla \"alumnas\"\n",
    "query = \"SELECT * FROM alumnas\"\n",
    "\n",
    "# Ejecuta la consulta\n",
    "cursor.execute(query)\n",
    "\n",
    "# Obtiene todos los resultados de la consulta\n",
    "results = cursor.fetchall()\n",
    "\n",
    "# Obtiene los nombres de las columnas del cursor\n",
    "column_names = [desc[0] for desc in cursor.description]\n",
    "\n",
    "# Crea un DataFrame con los resultados y los nombres de las columnas\n",
    "df = pd.DataFrame(results, columns=column_names)\n",
    "\n",
    "cnx.close()\n"
   ]
  },
  {
   "cell_type": "code",
   "execution_count": 46,
   "metadata": {},
   "outputs": [
    {
     "data": {
      "text/html": [
       "<div>\n",
       "<style scoped>\n",
       "    .dataframe tbody tr th:only-of-type {\n",
       "        vertical-align: middle;\n",
       "    }\n",
       "\n",
       "    .dataframe tbody tr th {\n",
       "        vertical-align: top;\n",
       "    }\n",
       "\n",
       "    .dataframe thead th {\n",
       "        text-align: right;\n",
       "    }\n",
       "</style>\n",
       "<table border=\"1\" class=\"dataframe\">\n",
       "  <thead>\n",
       "    <tr style=\"text-align: right;\">\n",
       "      <th></th>\n",
       "      <th>id_alumna</th>\n",
       "      <th>nombre</th>\n",
       "      <th>apellidos</th>\n",
       "      <th>ciudad</th>\n",
       "      <th>telefono</th>\n",
       "    </tr>\n",
       "  </thead>\n",
       "  <tbody>\n",
       "    <tr>\n",
       "      <th>0</th>\n",
       "      <td>1</td>\n",
       "      <td>Ana</td>\n",
       "      <td>García Pérez</td>\n",
       "      <td>Madrid</td>\n",
       "      <td>123456789</td>\n",
       "    </tr>\n",
       "    <tr>\n",
       "      <th>1</th>\n",
       "      <td>2</td>\n",
       "      <td>María</td>\n",
       "      <td>López Martínez</td>\n",
       "      <td>Barcelona</td>\n",
       "      <td>987654321</td>\n",
       "    </tr>\n",
       "    <tr>\n",
       "      <th>2</th>\n",
       "      <td>3</td>\n",
       "      <td>Laura</td>\n",
       "      <td>Fernández Gómez</td>\n",
       "      <td>Sevilla</td>\n",
       "      <td>654987321</td>\n",
       "    </tr>\n",
       "    <tr>\n",
       "      <th>3</th>\n",
       "      <td>4</td>\n",
       "      <td>Sofía</td>\n",
       "      <td>Martín Sánchez</td>\n",
       "      <td>Madrid</td>\n",
       "      <td>321456987</td>\n",
       "    </tr>\n",
       "    <tr>\n",
       "      <th>4</th>\n",
       "      <td>5</td>\n",
       "      <td>Lucía</td>\n",
       "      <td>Díaz Rodríguez</td>\n",
       "      <td>Barcelona</td>\n",
       "      <td>789654123</td>\n",
       "    </tr>\n",
       "    <tr>\n",
       "      <th>5</th>\n",
       "      <td>6</td>\n",
       "      <td>Elena</td>\n",
       "      <td>González López</td>\n",
       "      <td>Málaga</td>\n",
       "      <td>456123789</td>\n",
       "    </tr>\n",
       "    <tr>\n",
       "      <th>6</th>\n",
       "      <td>7</td>\n",
       "      <td>Carmen</td>\n",
       "      <td>Sánchez Fernández</td>\n",
       "      <td>Alicante</td>\n",
       "      <td>852369741</td>\n",
       "    </tr>\n",
       "    <tr>\n",
       "      <th>7</th>\n",
       "      <td>8</td>\n",
       "      <td>Paula</td>\n",
       "      <td>Martínez García</td>\n",
       "      <td>Madrid</td>\n",
       "      <td>369852147</td>\n",
       "    </tr>\n",
       "    <tr>\n",
       "      <th>8</th>\n",
       "      <td>9</td>\n",
       "      <td>Alba</td>\n",
       "      <td>Pérez Martín</td>\n",
       "      <td>Barcelona</td>\n",
       "      <td>147852369</td>\n",
       "    </tr>\n",
       "    <tr>\n",
       "      <th>9</th>\n",
       "      <td>10</td>\n",
       "      <td>Marta</td>\n",
       "      <td>Rodríguez Ruiz</td>\n",
       "      <td>Granada</td>\n",
       "      <td>963852741</td>\n",
       "    </tr>\n",
       "  </tbody>\n",
       "</table>\n",
       "</div>"
      ],
      "text/plain": [
       "   id_alumna  nombre          apellidos     ciudad   telefono\n",
       "0          1     Ana       García Pérez     Madrid  123456789\n",
       "1          2   María     López Martínez  Barcelona  987654321\n",
       "2          3   Laura    Fernández Gómez    Sevilla  654987321\n",
       "3          4   Sofía     Martín Sánchez     Madrid  321456987\n",
       "4          5   Lucía     Díaz Rodríguez  Barcelona  789654123\n",
       "5          6   Elena     González López     Málaga  456123789\n",
       "6          7  Carmen  Sánchez Fernández   Alicante  852369741\n",
       "7          8   Paula    Martínez García     Madrid  369852147\n",
       "8          9    Alba       Pérez Martín  Barcelona  147852369\n",
       "9         10   Marta     Rodríguez Ruiz    Granada  963852741"
      ]
     },
     "execution_count": 46,
     "metadata": {},
     "output_type": "execute_result"
    }
   ],
   "source": [
    "# Mostrando el dataframe\n",
    "df"
   ]
  },
  {
   "cell_type": "markdown",
   "metadata": {},
   "source": [
    "6. Muestra los 3 primeros y tres últimos registros del Dataframe."
   ]
  },
  {
   "cell_type": "code",
   "execution_count": 47,
   "metadata": {},
   "outputs": [
    {
     "data": {
      "text/html": [
       "<div>\n",
       "<style scoped>\n",
       "    .dataframe tbody tr th:only-of-type {\n",
       "        vertical-align: middle;\n",
       "    }\n",
       "\n",
       "    .dataframe tbody tr th {\n",
       "        vertical-align: top;\n",
       "    }\n",
       "\n",
       "    .dataframe thead th {\n",
       "        text-align: right;\n",
       "    }\n",
       "</style>\n",
       "<table border=\"1\" class=\"dataframe\">\n",
       "  <thead>\n",
       "    <tr style=\"text-align: right;\">\n",
       "      <th></th>\n",
       "      <th>id_alumna</th>\n",
       "      <th>nombre</th>\n",
       "      <th>apellidos</th>\n",
       "      <th>ciudad</th>\n",
       "      <th>telefono</th>\n",
       "    </tr>\n",
       "  </thead>\n",
       "  <tbody>\n",
       "    <tr>\n",
       "      <th>0</th>\n",
       "      <td>1</td>\n",
       "      <td>Ana</td>\n",
       "      <td>García Pérez</td>\n",
       "      <td>Madrid</td>\n",
       "      <td>123456789</td>\n",
       "    </tr>\n",
       "    <tr>\n",
       "      <th>1</th>\n",
       "      <td>2</td>\n",
       "      <td>María</td>\n",
       "      <td>López Martínez</td>\n",
       "      <td>Barcelona</td>\n",
       "      <td>987654321</td>\n",
       "    </tr>\n",
       "    <tr>\n",
       "      <th>2</th>\n",
       "      <td>3</td>\n",
       "      <td>Laura</td>\n",
       "      <td>Fernández Gómez</td>\n",
       "      <td>Sevilla</td>\n",
       "      <td>654987321</td>\n",
       "    </tr>\n",
       "  </tbody>\n",
       "</table>\n",
       "</div>"
      ],
      "text/plain": [
       "   id_alumna nombre        apellidos     ciudad   telefono\n",
       "0          1    Ana     García Pérez     Madrid  123456789\n",
       "1          2  María   López Martínez  Barcelona  987654321\n",
       "2          3  Laura  Fernández Gómez    Sevilla  654987321"
      ]
     },
     "execution_count": 47,
     "metadata": {},
     "output_type": "execute_result"
    }
   ],
   "source": [
    "# los 3 primeros registros\n",
    "\n",
    "df.head(3)"
   ]
  },
  {
   "cell_type": "code",
   "execution_count": 48,
   "metadata": {},
   "outputs": [
    {
     "data": {
      "text/html": [
       "<div>\n",
       "<style scoped>\n",
       "    .dataframe tbody tr th:only-of-type {\n",
       "        vertical-align: middle;\n",
       "    }\n",
       "\n",
       "    .dataframe tbody tr th {\n",
       "        vertical-align: top;\n",
       "    }\n",
       "\n",
       "    .dataframe thead th {\n",
       "        text-align: right;\n",
       "    }\n",
       "</style>\n",
       "<table border=\"1\" class=\"dataframe\">\n",
       "  <thead>\n",
       "    <tr style=\"text-align: right;\">\n",
       "      <th></th>\n",
       "      <th>id_alumna</th>\n",
       "      <th>nombre</th>\n",
       "      <th>apellidos</th>\n",
       "      <th>ciudad</th>\n",
       "      <th>telefono</th>\n",
       "    </tr>\n",
       "  </thead>\n",
       "  <tbody>\n",
       "    <tr>\n",
       "      <th>7</th>\n",
       "      <td>8</td>\n",
       "      <td>Paula</td>\n",
       "      <td>Martínez García</td>\n",
       "      <td>Madrid</td>\n",
       "      <td>369852147</td>\n",
       "    </tr>\n",
       "    <tr>\n",
       "      <th>8</th>\n",
       "      <td>9</td>\n",
       "      <td>Alba</td>\n",
       "      <td>Pérez Martín</td>\n",
       "      <td>Barcelona</td>\n",
       "      <td>147852369</td>\n",
       "    </tr>\n",
       "    <tr>\n",
       "      <th>9</th>\n",
       "      <td>10</td>\n",
       "      <td>Marta</td>\n",
       "      <td>Rodríguez Ruiz</td>\n",
       "      <td>Granada</td>\n",
       "      <td>963852741</td>\n",
       "    </tr>\n",
       "  </tbody>\n",
       "</table>\n",
       "</div>"
      ],
      "text/plain": [
       "   id_alumna nombre        apellidos     ciudad   telefono\n",
       "7          8  Paula  Martínez García     Madrid  369852147\n",
       "8          9   Alba     Pérez Martín  Barcelona  147852369\n",
       "9         10  Marta   Rodríguez Ruiz    Granada  963852741"
      ]
     },
     "execution_count": 48,
     "metadata": {},
     "output_type": "execute_result"
    }
   ],
   "source": [
    "# los 3 ultimos registros\n",
    "\n",
    "df.tail(3)"
   ]
  },
  {
   "cell_type": "markdown",
   "metadata": {},
   "source": [
    "7. ¿Hay registros duplicados?"
   ]
  },
  {
   "cell_type": "code",
   "execution_count": 49,
   "metadata": {},
   "outputs": [
    {
     "data": {
      "text/plain": [
       "0"
      ]
     },
     "execution_count": 49,
     "metadata": {},
     "output_type": "execute_result"
    }
   ],
   "source": [
    "# Hay duplicados\n",
    "df.duplicated().sum()"
   ]
  },
  {
   "cell_type": "markdown",
   "metadata": {},
   "source": [
    "### Bonus:"
   ]
  },
  {
   "cell_type": "markdown",
   "metadata": {},
   "source": [
    "8. Haz una consulta para extraer las diferentes ciudades en las que hay alumnas.\n"
   ]
  },
  {
   "cell_type": "code",
   "execution_count": 50,
   "metadata": {},
   "outputs": [
    {
     "name": "stdout",
     "output_type": "stream",
     "text": [
      "['Madrid', 'Barcelona', 'Sevilla', 'Málaga', 'Alicante', 'Granada']\n"
     ]
    }
   ],
   "source": [
    "# Establece la conexión a la base de datos\n",
    "cnx = mysql.connector.connect(user='root', password='AlumnaAdalab',\n",
    "                              host='127.0.0.1',\n",
    "                              database='alumnas-promo-h')\n",
    "cursor = cnx.cursor()\n",
    "\n",
    "# Realiza la consulta SQL para seleccionar las diferentes ciudades\n",
    "query = \"SELECT DISTINCT ciudad FROM alumnas\"\n",
    "\n",
    "# Ejecuta la consulta\n",
    "cursor.execute(query)\n",
    "\n",
    "# Obtiene todos los resultados de la consulta\n",
    "results = cursor.fetchall()\n",
    "\n",
    "# Cierra el cursor y la conexión\n",
    "cursor.close()\n",
    "cnx.close()\n",
    "\n",
    "# Convierte los resultados en una lista de ciudades\n",
    "ciudades = [result[0] for result in results]\n",
    "\n",
    "# Imprime la lista de ciudades\n",
    "print(ciudades)"
   ]
  },
  {
   "cell_type": "markdown",
   "metadata": {},
   "source": [
    "9. Crea al menos dos Dataframes con la información de las alumnas de dos ciudades diferentes (usando dos queries)."
   ]
  },
  {
   "cell_type": "code",
   "execution_count": 51,
   "metadata": {},
   "outputs": [],
   "source": [
    "import mysql.connector\n",
    "import pandas as pd\n",
    "\n",
    "# Establece la conexión a la base de datos\n",
    "cnx = mysql.connector.connect(user='root', password='AlumnaAdalab',\n",
    "                              host='127.0.0.1',\n",
    "                              database='alumnas-promo-h')\n",
    "\n",
    "# Consulta para seleccionar las alumnas de Madrid\n",
    "query_madrid = \"SELECT * FROM alumnas WHERE ciudad = 'Madrid'\"\n",
    "cursor_madrid = cnx.cursor()\n",
    "cursor_madrid.execute(query_madrid)\n",
    "results_madrid = cursor_madrid.fetchall()\n",
    "column_names_madrid = [desc[0] for desc in cursor_madrid.description]\n",
    "df_madrid = pd.DataFrame(results_madrid, columns=column_names_madrid)\n",
    "\n",
    "# Consulta para seleccionar las alumnas de Barcelona\n",
    "query_barcelona = \"SELECT * FROM alumnas WHERE ciudad = 'Barcelona'\"\n",
    "cursor_barcelona = cnx.cursor()\n",
    "cursor_barcelona.execute(query_barcelona)\n",
    "results_barcelona = cursor_barcelona.fetchall()\n",
    "column_names_barcelona = [desc[0] for desc in cursor_barcelona.description]\n",
    "df_barcelona = pd.DataFrame(results_barcelona, columns=column_names_barcelona)\n",
    "\n",
    "# Cierra los cursores\n",
    "cursor_madrid.close()\n",
    "cursor_barcelona.close()\n",
    "\n",
    "# Cierra la conexión a la base de datos\n",
    "cnx.close()"
   ]
  },
  {
   "cell_type": "code",
   "execution_count": 52,
   "metadata": {},
   "outputs": [
    {
     "data": {
      "text/html": [
       "<div>\n",
       "<style scoped>\n",
       "    .dataframe tbody tr th:only-of-type {\n",
       "        vertical-align: middle;\n",
       "    }\n",
       "\n",
       "    .dataframe tbody tr th {\n",
       "        vertical-align: top;\n",
       "    }\n",
       "\n",
       "    .dataframe thead th {\n",
       "        text-align: right;\n",
       "    }\n",
       "</style>\n",
       "<table border=\"1\" class=\"dataframe\">\n",
       "  <thead>\n",
       "    <tr style=\"text-align: right;\">\n",
       "      <th></th>\n",
       "      <th>id_alumna</th>\n",
       "      <th>nombre</th>\n",
       "      <th>apellidos</th>\n",
       "      <th>ciudad</th>\n",
       "      <th>telefono</th>\n",
       "    </tr>\n",
       "  </thead>\n",
       "  <tbody>\n",
       "    <tr>\n",
       "      <th>0</th>\n",
       "      <td>1</td>\n",
       "      <td>Ana</td>\n",
       "      <td>García Pérez</td>\n",
       "      <td>Madrid</td>\n",
       "      <td>123456789</td>\n",
       "    </tr>\n",
       "    <tr>\n",
       "      <th>1</th>\n",
       "      <td>4</td>\n",
       "      <td>Sofía</td>\n",
       "      <td>Martín Sánchez</td>\n",
       "      <td>Madrid</td>\n",
       "      <td>321456987</td>\n",
       "    </tr>\n",
       "    <tr>\n",
       "      <th>2</th>\n",
       "      <td>8</td>\n",
       "      <td>Paula</td>\n",
       "      <td>Martínez García</td>\n",
       "      <td>Madrid</td>\n",
       "      <td>369852147</td>\n",
       "    </tr>\n",
       "  </tbody>\n",
       "</table>\n",
       "</div>"
      ],
      "text/plain": [
       "   id_alumna nombre        apellidos  ciudad   telefono\n",
       "0          1    Ana     García Pérez  Madrid  123456789\n",
       "1          4  Sofía   Martín Sánchez  Madrid  321456987\n",
       "2          8  Paula  Martínez García  Madrid  369852147"
      ]
     },
     "execution_count": 52,
     "metadata": {},
     "output_type": "execute_result"
    }
   ],
   "source": [
    "# Primera tabla\n",
    "\n",
    "df_madrid"
   ]
  },
  {
   "cell_type": "code",
   "execution_count": 53,
   "metadata": {},
   "outputs": [
    {
     "data": {
      "text/html": [
       "<div>\n",
       "<style scoped>\n",
       "    .dataframe tbody tr th:only-of-type {\n",
       "        vertical-align: middle;\n",
       "    }\n",
       "\n",
       "    .dataframe tbody tr th {\n",
       "        vertical-align: top;\n",
       "    }\n",
       "\n",
       "    .dataframe thead th {\n",
       "        text-align: right;\n",
       "    }\n",
       "</style>\n",
       "<table border=\"1\" class=\"dataframe\">\n",
       "  <thead>\n",
       "    <tr style=\"text-align: right;\">\n",
       "      <th></th>\n",
       "      <th>id_alumna</th>\n",
       "      <th>nombre</th>\n",
       "      <th>apellidos</th>\n",
       "      <th>ciudad</th>\n",
       "      <th>telefono</th>\n",
       "    </tr>\n",
       "  </thead>\n",
       "  <tbody>\n",
       "    <tr>\n",
       "      <th>0</th>\n",
       "      <td>2</td>\n",
       "      <td>María</td>\n",
       "      <td>López Martínez</td>\n",
       "      <td>Barcelona</td>\n",
       "      <td>987654321</td>\n",
       "    </tr>\n",
       "    <tr>\n",
       "      <th>1</th>\n",
       "      <td>5</td>\n",
       "      <td>Lucía</td>\n",
       "      <td>Díaz Rodríguez</td>\n",
       "      <td>Barcelona</td>\n",
       "      <td>789654123</td>\n",
       "    </tr>\n",
       "    <tr>\n",
       "      <th>2</th>\n",
       "      <td>9</td>\n",
       "      <td>Alba</td>\n",
       "      <td>Pérez Martín</td>\n",
       "      <td>Barcelona</td>\n",
       "      <td>147852369</td>\n",
       "    </tr>\n",
       "  </tbody>\n",
       "</table>\n",
       "</div>"
      ],
      "text/plain": [
       "   id_alumna nombre       apellidos     ciudad   telefono\n",
       "0          2  María  López Martínez  Barcelona  987654321\n",
       "1          5  Lucía  Díaz Rodríguez  Barcelona  789654123\n",
       "2          9   Alba    Pérez Martín  Barcelona  147852369"
      ]
     },
     "execution_count": 53,
     "metadata": {},
     "output_type": "execute_result"
    }
   ],
   "source": [
    "# Segunda tabla\n",
    "df_barcelona"
   ]
  }
 ],
 "metadata": {
  "kernelspec": {
   "display_name": "base",
   "language": "python",
   "name": "python3"
  },
  "language_info": {
   "codemirror_mode": {
    "name": "ipython",
    "version": 3
   },
   "file_extension": ".py",
   "mimetype": "text/x-python",
   "name": "python",
   "nbconvert_exporter": "python",
   "pygments_lexer": "ipython3",
   "version": "3.9.7"
  },
  "toc": {
   "base_numbering": 1,
   "nav_menu": {},
   "number_sections": true,
   "sideBar": true,
   "skip_h1_title": false,
   "title_cell": "Table of Contents",
   "title_sidebar": "Contents",
   "toc_cell": false,
   "toc_position": {
    "height": "calc(100% - 180px)",
    "left": "10px",
    "top": "150px",
    "width": "384px"
   },
   "toc_section_display": true,
   "toc_window_display": true
  }
 },
 "nbformat": 4,
 "nbformat_minor": 2
}
